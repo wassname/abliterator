{
  "cells": [
    {
      "cell_type": "markdown",
      "metadata": {
        "id": "82acAhWYGIPx"
      },
      "source": [
        "# Demo of bypassing refusal\n",
        "\n",
        "from https://colab.research.google.com/drive/1a-aQvKC9avdZpdyBn4jgRQFObTPy1JZw?usp=sharing#scrollTo=j7hOtw7UHXdD\n",
        "\n",
        "home: https://gist.github.com/wassname/42aba7168bb83e278fcfea87e70fa3af"
      ]
    },
    {
      "cell_type": "markdown",
      "metadata": {
        "id": "j7hOtw7UHXdD"
      },
      "source": [
        "> This notebook demonstrates oaur method for bypassing refusal, leveraging the insight that refusal is mediated by a 1-dimensional subspace.\n",
        "\n",
        "This has been rewritten to use baukit instead of transformerlens\n",
        "\n",
        "> To extract the \"refusal direction,\" we use just 32 harmful instructions from [AdvBench](https://github.com/llm-attacks/llm-attacks/blob/main/data/advbench/harmful_behaviors.csv) and 32 harmless instructions from [Alpaca](https://huggingface.co/datasets/tatsu-lab/alpaca).\n",
        "\n",
        "It will still warn you and lecture you (as this direction has not been erased), but it will follow instructions.\n",
        "\n",
        "Only use this if you can take responsibility for your own actions and emotions while using it.\n",
        "\n",
        "> For anyone who is enjoying increasing their knowledge of this field, check out these intros:\n",
        "- A primer on the internals of transformers: https://arxiv.org/abs/2405.00208\n",
        "- Machine unlearning: https://ai.stanford.edu/~kzliu/blog/unlearning\n",
        "- The original post that this script is based on https://www.lesswrong.com/posts/jGuXSZgv6qfdhMCuJ/refusal-in-llms-is-mediated-by-a-single-direction#\n",
        "\n",
        "To understand why many people (including me) are worried about misalignment of ASI (not this small model) see this intro https://aisafetyfundamentals.com/blog/alignment-introduction/. There are [many](https://www.eleuther.ai/) [orgs](https://optimists.ai/) that are working on this who support open sourcing! We want the good ending, not the bad one, join us. "
      ]
    },
    {
      "cell_type": "markdown",
      "metadata": {
        "id": "fcxHyDZw6b86"
      },
      "source": [
        "## Setup"
      ]
    },
    {
      "cell_type": "code",
      "execution_count": 1,
      "metadata": {
        "id": "_vhhwl-2-jPg"
      },
      "outputs": [],
      "source": [
        "import torch\n",
        "import functools, collections\n",
        "import einops\n",
        "import requests\n",
        "import pandas as pd\n",
        "from IPython.display import display, HTML\n",
        "import io\n",
        "import textwrap\n",
        "import gc\n",
        "from pathlib import Path\n",
        "from baukit.nethook import get_module\n",
        "from baukit import TraceDict\n",
        "\n",
        "from datasets import load_dataset\n",
        "from sklearn.model_selection import train_test_split\n",
        "# from tqdm import tqdm\n",
        "from torch import Tensor\n",
        "from typing import List, Callable, Tuple, Dict, Optional\n",
        "from transformers import AutoModelForCausalLM, AutoTokenizer\n",
        "from jaxtyping import Float, Int\n",
        "from colorama import Fore"
      ]
    },
    {
      "cell_type": "markdown",
      "metadata": {
        "id": "6ZOoJagxD49V"
      },
      "source": [
        "### Load model"
      ]
    },
    {
      "cell_type": "code",
      "execution_count": 2,
      "metadata": {},
      "outputs": [
        {
          "data": {
            "text/plain": [
              "<torch.autograd.grad_mode.set_grad_enabled at 0x78a262777b50>"
            ]
          },
          "execution_count": 2,
          "metadata": {},
          "output_type": "execute_result"
        }
      ],
      "source": [
        "# We turn automatic differentiation off, to save GPU memory, as this notebook focuses on model inference not model training.\n",
        "torch.set_grad_enabled(False)"
      ]
    },
    {
      "cell_type": "code",
      "execution_count": 3,
      "metadata": {},
      "outputs": [],
      "source": [
        "MODEL_PATH = \"NousResearch/Meta-Llama-3-8B-Instruct\".lower()\n",
        "verbose = True\n",
        "batch_size = 4\n",
        "\n",
        "N_INST_TEST = 32\n",
        "N_INST_TRAIN = 64  # 32 how many train examples to use\n",
        "max_new_tokens = 64  # 128"
      ]
    },
    {
      "cell_type": "code",
      "execution_count": null,
      "metadata": {},
      "outputs": [],
      "source": []
    },
    {
      "cell_type": "code",
      "execution_count": null,
      "metadata": {
        "colab": {
          "base_uri": "https://localhost:8080/",
          "height": 191,
          "referenced_widgets": [
            "ad063e2c68a44f009bfab68c141c09be",
            "89ee88168c474e9fbcf4a17f1483eff4",
            "3877270cf4bc42a9b6142cce7a5d8c54",
            "9a5611a341ed4673aaaf2f463f685d7c",
            "a2de63dfbd6c485e841c6fcd1fefe451",
            "c362d50107dd4a2db0d1a79da2af8d57",
            "ffa85c694b694425999187b346c7ecfe",
            "ec8f6f360a2243b0ac98d34e825ba378",
            "f2ee188bfaa84e9680dbc296b1adbef6",
            "e973493cd6d14381bb4ad2f82417e8a9",
            "89797f6e82104058af92e3ceb094af66"
          ]
        },
        "id": "Vnp65Vsg5x-5",
        "outputId": "25fb5805-fe31-44b0-8f73-6fabc230d261"
      },
      "outputs": [
        {
          "data": {
            "application/vnd.jupyter.widget-view+json": {
              "model_id": "a9a5300bf912493c9d9e863d853438d7",
              "version_major": 2,
              "version_minor": 0
            },
            "text/plain": [
              "model.safetensors.index.json:   0%|          | 0.00/16.3k [00:00<?, ?B/s]"
            ]
          },
          "metadata": {},
          "output_type": "display_data"
        },
        {
          "data": {
            "application/vnd.jupyter.widget-view+json": {
              "model_id": "2c966d98878b443c995e69ca8e502f97",
              "version_major": 2,
              "version_minor": 0
            },
            "text/plain": [
              "Downloading shards:   0%|          | 0/2 [00:00<?, ?it/s]"
            ]
          },
          "metadata": {},
          "output_type": "display_data"
        },
        {
          "data": {
            "application/vnd.jupyter.widget-view+json": {
              "model_id": "8471267b8c3c47e3a4b3fb2855a9db2e",
              "version_major": 2,
              "version_minor": 0
            },
            "text/plain": [
              "model-00001-of-00002.safetensors:   0%|          | 0.00/4.90G [00:00<?, ?B/s]"
            ]
          },
          "metadata": {},
          "output_type": "display_data"
        }
      ],
      "source": [
        "tokenizer = AutoTokenizer.from_pretrained(MODEL_PATH, padding_side=\"left\")\n",
        "tokenizer.padding_side = \"left\"\n",
        "tokenizer.pad_token = tokenizer.eos_token\n",
        "tokenizer.pad_token_id = tokenizer.eos_token_id\n",
        "\n",
        "model = AutoModelForCausalLM.from_pretrained(\n",
        "    MODEL_PATH,\n",
        "    device_map=\"auto\",\n",
        "    torch_dtype=torch.bfloat16,\n",
        "    attn_implementation=\"eager\",\n",
        ").eval()\n",
        "\n",
        "DEVICE = model.device"
      ]
    },
    {
      "cell_type": "code",
      "execution_count": null,
      "metadata": {},
      "outputs": [],
      "source": [
        "# here we read the output of each block to get the resid_post or the output of each layer.\n",
        "# TODO choose the best range of layers\n",
        "layers = list(range(2, len(model.model.layers)))\n",
        "layers_to_read = [f\"model.layers.{l}\" for l in layers]\n",
        "layers_to_read"
      ]
    },
    {
      "cell_type": "markdown",
      "metadata": {},
      "source": [
        "### Benchmark"
      ]
    },
    {
      "cell_type": "code",
      "execution_count": null,
      "metadata": {},
      "outputs": [],
      "source": [
        "# Directly taken from https://huggingface.co/spaces/evaluate-measurement/perplexity/blob/main/perplexity.py\n",
        "# TODO replace with a strided version https://github.com/huggingface/transformers/issues/9648#issuecomment-812981524\n",
        "import numpy as np\n",
        "import torch\n",
        "from torch.nn import CrossEntropyLoss\n",
        "from tqdm.auto import tqdm\n",
        "\n",
        "@torch.no_grad()\n",
        "def perplexity2(predictions, model, tokenizer, batch_size: int = 16, max_length=64, add_start_token=True):\n",
        "    device = model.device\n",
        "\n",
        "    assert tokenizer.pad_token is not None, \"Tokenizer must have a pad token\"\n",
        "\n",
        "    encodings = tokenizer(\n",
        "        predictions,\n",
        "        add_special_tokens=False,\n",
        "        padding=True,\n",
        "        truncation=True if max_length else False,\n",
        "        max_length=max_length,\n",
        "        return_tensors=\"pt\",\n",
        "        return_attention_mask=True,\n",
        "    ).to(device)\n",
        "\n",
        "    encoded_texts = encodings[\"input_ids\"]\n",
        "    attn_masks = encodings[\"attention_mask\"]\n",
        "\n",
        "    ppls = []\n",
        "    loss_fct = CrossEntropyLoss(reduction=\"none\")\n",
        "\n",
        "    for start_index in tqdm(range(0, len(encoded_texts), batch_size)):\n",
        "        end_index = min(start_index + batch_size, len(encoded_texts))\n",
        "        encoded_batch = encoded_texts[start_index:end_index]\n",
        "        attn_mask = attn_masks[start_index:end_index]\n",
        "\n",
        "        if add_start_token:\n",
        "            bos_tokens_tensor = torch.tensor([[tokenizer.bos_token_id]] * encoded_batch.size(dim=0)).to(device)\n",
        "            encoded_batch = torch.cat([bos_tokens_tensor, encoded_batch], dim=1)\n",
        "            attn_mask = torch.cat(\n",
        "                [torch.ones(bos_tokens_tensor.size(), dtype=torch.int64).to(device), attn_mask], dim=1\n",
        "            )\n",
        "\n",
        "        labels = encoded_batch\n",
        "\n",
        "        with torch.no_grad():\n",
        "            out_logits = model(encoded_batch, attention_mask=attn_mask).logits\n",
        "\n",
        "        shift_logits = out_logits[..., :-1, :].contiguous()\n",
        "        shift_labels = labels[..., 1:].contiguous()\n",
        "        shift_attention_mask_batch = attn_mask[..., 1:].contiguous()\n",
        "\n",
        "        perplexity_batch = torch.exp(\n",
        "            (loss_fct(shift_logits.transpose(1, 2), shift_labels) * shift_attention_mask_batch).sum(1)\n",
        "            / shift_attention_mask_batch.sum(1)\n",
        "        )\n",
        "\n",
        "        ppls += perplexity_batch.tolist()\n",
        "\n",
        "    return np.mean(ppls)"
      ]
    },
    {
      "cell_type": "code",
      "execution_count": null,
      "metadata": {},
      "outputs": [],
      "source": [
        "perplexity_results = {}\n",
        "\n",
        "input_texts = load_dataset(\"wikitext\", \"wikitext-2-raw-v1\", split=\"test\")[\"text\"]\n",
        "input_texts = [s for s in input_texts[:1000] if s!='']"
      ]
    },
    {
      "cell_type": "code",
      "execution_count": null,
      "metadata": {},
      "outputs": [],
      "source": [
        "# input_texts"
      ]
    },
    {
      "cell_type": "code",
      "execution_count": null,
      "metadata": {},
      "outputs": [],
      "source": [
        "def eval_pplx(model, tokenizer, model_name):\n",
        "    s = perplexity2(input_texts, model, tokenizer, batch_size=batch_size, max_length=max_new_tokens)\n",
        "    perplexity_results[model_name] = s\n",
        "    print(f\"mean_perplexity: {s:2.2f} for model=`{model_name}`\")\n",
        "    # df = pd.DataFrame(perplexity_results.items(), columns=[\"model\", \"perplexity\"]).to_csv(\"perplexity_results.csv\", index=False)\n",
        "    # display(df)\n",
        "    return s"
      ]
    },
    {
      "cell_type": "code",
      "execution_count": null,
      "metadata": {},
      "outputs": [],
      "source": [
        "eval_pplx(model, tokenizer, model_name='base')"
      ]
    },
    {
      "cell_type": "code",
      "execution_count": null,
      "metadata": {},
      "outputs": [],
      "source": []
    },
    {
      "cell_type": "markdown",
      "metadata": {
        "id": "rF7e-u20EFTe"
      },
      "source": [
        "### Load harmful / harmless datasets"
      ]
    },
    {
      "cell_type": "code",
      "execution_count": null,
      "metadata": {
        "id": "5i1XcVIgHEE1"
      },
      "outputs": [],
      "source": [
        "def get_harmful_instructions():\n",
        "    url = \"https://raw.githubusercontent.com/llm-attacks/llm-attacks/main/data/advbench/harmful_behaviors.csv\"\n",
        "    response = requests.get(url)\n",
        "\n",
        "    dataset = pd.read_csv(io.StringIO(response.content.decode(\"utf-8\")))\n",
        "    instructions = dataset[\"goal\"].tolist()\n",
        "\n",
        "    train, test = train_test_split(instructions, test_size=0.2, random_state=42)\n",
        "    return train, test\n",
        "\n",
        "\n",
        "# def harmful_instructions2():\n",
        "#     hf_path = 'unalignment/toxic-dpo-v0.1'\n",
        "#     dataset = load_dataset(hf_path)\n",
        "\n",
        "#     # filter for instructions that do not have inputs\n",
        "#     instructions = []\n",
        "#     for i in range(len(dataset['train'])):\n",
        "#         instructions.append(dataset['train'][i]['prompt'])\n",
        "\n",
        "#     train, test = train_test_split(instructions, test_size=0.2, random_state=42)\n",
        "#     return train, test\n",
        "\n",
        "\n",
        "def get_harmless_instructions():\n",
        "    hf_path = \"tatsu-lab/alpaca\"\n",
        "    dataset = load_dataset(hf_path)\n",
        "\n",
        "    # filter for instructions that do not have inputs\n",
        "    instructions = []\n",
        "    for i in range(len(dataset[\"train\"])):\n",
        "        if dataset[\"train\"][i][\"input\"].strip() == \"\":\n",
        "            instructions.append(dataset[\"train\"][i][\"instruction\"])\n",
        "\n",
        "    train, test = train_test_split(instructions, test_size=0.2, random_state=42)\n",
        "    return train, test"
      ]
    },
    {
      "cell_type": "code",
      "execution_count": null,
      "metadata": {
        "id": "Rth8yvLZJsXs"
      },
      "outputs": [],
      "source": [
        "harmful_inst_train, harmful_inst_test = get_harmful_instructions()\n",
        "# harmful_inst_train2, harmful_inst_test2 = harmful_instructions2()\n",
        "harmless_inst_train, harmless_inst_test = get_harmless_instructions()"
      ]
    },
    {
      "cell_type": "code",
      "execution_count": null,
      "metadata": {
        "colab": {
          "base_uri": "https://localhost:8080/"
        },
        "id": "Qv2ALDY_J44G",
        "outputId": "7cce7654-9592-4414-a322-27c6631f2e8e"
      },
      "outputs": [],
      "source": [
        "print(\"Harmful instructions:\")\n",
        "for i in range(4):\n",
        "    print(f\"\\t{repr(harmful_inst_train[i])}\")\n",
        "# print(\"Harmful instructions2:\")\n",
        "# for i in range(4):\n",
        "#     print(f\"\\t{repr(harmful_inst_train2[i])}\")\n",
        "print(\"Harmless instructions:\")\n",
        "for i in range(4):\n",
        "    print(f\"\\t{repr(harmless_inst_train[i])}\")"
      ]
    },
    {
      "cell_type": "markdown",
      "metadata": {
        "id": "KOKYA61k8LWt"
      },
      "source": [
        "### Tokenization utils"
      ]
    },
    {
      "cell_type": "code",
      "execution_count": null,
      "metadata": {
        "id": "P8UPQSfpWOSK"
      },
      "outputs": [],
      "source": [
        "def tokenize_instructions_chat(\n",
        "    tokenizer: AutoTokenizer, instructions: List[str]\n",
        ") -> Int[Tensor, \"batch_size seq_len\"]:\n",
        "    chats = [[{\"role\": \"user\", \"content\": instruction}] for instruction in instructions]\n",
        "    prompts = [\n",
        "        tokenizer.apply_chat_template(c, tokenize=False, add_generation_prompt=True)\n",
        "        for c in chats\n",
        "    ]\n",
        "    return tokenizer(prompts, padding=True, truncation=False, return_tensors=\"pt\")\n",
        "\n",
        "\n",
        "tokenize_instructions_fn = functools.partial(\n",
        "    tokenize_instructions_chat, tokenizer=tokenizer\n",
        ")"
      ]
    },
    {
      "cell_type": "code",
      "execution_count": null,
      "metadata": {},
      "outputs": [],
      "source": []
    },
    {
      "cell_type": "markdown",
      "metadata": {
        "id": "gtrIK8x78SZh"
      },
      "source": [
        "### Generation utils"
      ]
    },
    {
      "cell_type": "code",
      "execution_count": null,
      "metadata": {
        "id": "94jRJDR0DRoY"
      },
      "outputs": [],
      "source": [
        "@torch.no_grad()\n",
        "def get_generations(\n",
        "    instructions: List[str],\n",
        "    model: AutoModelForCausalLM,\n",
        "    tokenizer: AutoTokenizer,\n",
        "    tokenize_instructions_fn: Callable[[List[str]], Int[Tensor, \"batch_size seq_len\"]],\n",
        "    layer_names: List[str] = [],\n",
        "    max_new_tokens: int = 64,\n",
        "    batch_size: int = 4,\n",
        "    edit_output: Callable[\n",
        "        [Float[Tensor, \"batch_size seq_len dim\"], str],\n",
        "        Float[Tensor, \"batch_size seq_len dim\"],\n",
        "    ] = None,\n",
        ") -> Tuple[Dict[str, Float[Tensor, \"batch tokens dim\"]], List[str]]:\n",
        "    generations = []\n",
        "    activations = collections.defaultdict(list)\n",
        "\n",
        "    for i in tqdm(range(0, len(instructions), batch_size)):\n",
        "        inputs = tokenize_instructions_fn(\n",
        "            instructions=instructions[i : i + batch_size]\n",
        "        ).to(DEVICE)\n",
        "\n",
        "        # record activations from just the next token\n",
        "        # docs for TraceDict here: https://github.com/davidbau/baukit/blob/main/baukit/nethook.py\n",
        "        with TraceDict(\n",
        "            model, layers=layer_names, edit_output=edit_output,\n",
        "        ) as ret:\n",
        "            model(**inputs)\n",
        "\n",
        "        for layer_name in layer_names:\n",
        "            act = ret[layer_name].output[0].cpu()\n",
        "            activations[layer_name].append(act)\n",
        "\n",
        "        generation = model.generate(**inputs, max_new_tokens=max_new_tokens)\n",
        "        t = inputs.input_ids.shape[1]\n",
        "        generation = generation[:, t:]\n",
        "        generations.extend(generation)\n",
        "\n",
        "    pos = -1  # just the last token\n",
        "    activations = {\n",
        "        k: torch.concatenate([vv[:, pos] for vv in v], dim=0).cpu()\n",
        "        for k, v in activations.items()\n",
        "    }\n",
        "    generations = tokenizer.batch_decode(generations, skip_special_tokens=True)\n",
        "\n",
        "    return activations, generations\n",
        "\n",
        "\n",
        "# unit test\n",
        "activations, generations = get_generations(\n",
        "    instructions=harmful_inst_train[: batch_size * 2],\n",
        "    model=model,\n",
        "    tokenizer=tokenizer,\n",
        "    layer_names=layers_to_read,\n",
        "    tokenize_instructions_fn=tokenize_instructions_fn,\n",
        "    max_new_tokens=6,\n",
        "    batch_size=batch_size,\n",
        ")\n",
        "# print({k: v.shape for k, v in activations.items()})\n",
        "generations"
      ]
    },
    {
      "cell_type": "markdown",
      "metadata": {
        "id": "W9O8dm0_EQRk"
      },
      "source": [
        "## Finding the \"refusal direction\""
      ]
    },
    {
      "cell_type": "code",
      "execution_count": null,
      "metadata": {},
      "outputs": [],
      "source": [
        "def clear_mem():\n",
        "    gc.collect()\n",
        "    torch.cuda.empty_cache()"
      ]
    },
    {
      "cell_type": "code",
      "execution_count": null,
      "metadata": {
        "id": "MbY79kSP8oOg"
      },
      "outputs": [],
      "source": [
        "# run model on harmful and harmless instructions, caching intermediate activations\n",
        "harmless_cache, harmless_generation = get_generations(\n",
        "    instructions=harmless_inst_train[:N_INST_TRAIN],\n",
        "    model=model,\n",
        "    tokenizer=tokenizer,\n",
        "    layer_names=layers_to_read,\n",
        "    tokenize_instructions_fn=tokenize_instructions_fn,\n",
        "    max_new_tokens=1,\n",
        "    batch_size=batch_size,\n",
        ")\n",
        "clear_mem()\n",
        "harmful_cache, harmfull_generation = get_generations(\n",
        "    instructions=harmful_inst_train[:N_INST_TRAIN],\n",
        "    model=model,\n",
        "    tokenizer=tokenizer,\n",
        "    layer_names=layers_to_read,\n",
        "    tokenize_instructions_fn=tokenize_instructions_fn,\n",
        "    max_new_tokens=1,\n",
        "    batch_size=batch_size,\n",
        ")"
      ]
    },
    {
      "cell_type": "code",
      "execution_count": null,
      "metadata": {},
      "outputs": [],
      "source": [
        "harmfull_generation[:3]"
      ]
    },
    {
      "cell_type": "code",
      "execution_count": null,
      "metadata": {},
      "outputs": [],
      "source": [
        "harmless_generation[:3]"
      ]
    },
    {
      "cell_type": "code",
      "execution_count": null,
      "metadata": {},
      "outputs": [],
      "source": [
        "# harmless_cache.keys()"
      ]
    },
    {
      "cell_type": "code",
      "execution_count": null,
      "metadata": {},
      "outputs": [],
      "source": [
        "# print({k: v.norm().item() for k, v in harmless_cache.items()})\n",
        "# print({k: v.shape for k, v in harmless_cache.items()})"
      ]
    },
    {
      "cell_type": "code",
      "execution_count": null,
      "metadata": {},
      "outputs": [],
      "source": [
        "# refusal_directions = {\n",
        "#     ln: (harmful_cache[ln].mean(0) - harmless_cache[ln].mean(0))/ (1.+harmful_cache[ln].mean(0)+harmless_cache[ln].mean(0) )for ln in layers_to_read\n",
        "# }\n",
        "# # print({k: v.norm().item() for k, v in refusal_directions.items()})\n",
        "# d = {k.split('.')[-1]: v.norm().item() for k, v in refusal_directions.items()}\n",
        "\n",
        "# pd.DataFrame(d.items(), columns=[\"layer\", \"norm\"]).set_index(\"layer\").plot()"
      ]
    },
    {
      "cell_type": "code",
      "execution_count": null,
      "metadata": {
        "id": "tqD5E8Vc_w5d"
      },
      "outputs": [],
      "source": [
        "refusal_directions = {\n",
        "    ln: harmful_cache[ln].mean(0) - harmless_cache[ln].mean(0) for ln in layers_to_read\n",
        "}\n",
        "refusal_directions = {k: v / v.norm() for k, v in refusal_directions.items()}\n",
        "refusal_directions = {k: v.to(DEVICE) for k, v in refusal_directions.items()}\n",
        "# print({k:v.shape for k,v in refusal_directions.items()})"
      ]
    },
    {
      "cell_type": "code",
      "execution_count": null,
      "metadata": {},
      "outputs": [],
      "source": []
    },
    {
      "cell_type": "code",
      "execution_count": null,
      "metadata": {},
      "outputs": [],
      "source": [
        "# # edit all layers\n",
        "read2edit_layer_map = {\n",
        "    f\"model.layers.{l}.self_attn.o_proj\": f\"model.layers.{l}\" for l in layers[1:]\n",
        "}\n",
        "read2edit_layer_map.update(\n",
        "    {f\"model.layers.{l}.mlp.down_proj\": f\"model.layers.{l}\" for l in layers[1:]}\n",
        ")\n",
        "# read2edit_layer_map[\"model.embed_tokens\"] = layers_to_read[0]\n",
        "layers_to_edit = list(read2edit_layer_map.keys())\n",
        "read2edit_layer_map"
      ]
    },
    {
      "cell_type": "code",
      "execution_count": null,
      "metadata": {
        "id": "NU9rjXPT4uQ_"
      },
      "outputs": [],
      "source": [
        "# clean up memory\n",
        "# del harmful_cache, harmless_cache\n",
        "clear_mem()"
      ]
    },
    {
      "cell_type": "markdown",
      "metadata": {
        "id": "2EoxY5i1CWe3"
      },
      "source": [
        "## Ablate \"refusal direction\" via inference-time intervention\n",
        "\n",
        "Given a \"refusal direction\" $\\widehat{r} \\in \\mathbb{R}^{d_{\\text{model}}}$ with unit norm, we can ablate this direction from the model's activations $a_{l}$:\n",
        "$${a}_{l}' \\leftarrow a_l - (a_l \\cdot \\widehat{r}) \\widehat{r}$$\n",
        "\n",
        "By performing this ablation on all intermediate activations, we enforce that the model can never express this direction (or \"feature\")."
      ]
    },
    {
      "cell_type": "code",
      "execution_count": null,
      "metadata": {
        "id": "26rf-yncB2PT"
      },
      "outputs": [],
      "source": [
        "@torch.no_grad()\n",
        "def direction_ablation_hook(\n",
        "    output: Float[Tensor, \"... d_act\"],\n",
        "    layer: str,\n",
        "    inputs,\n",
        "    directions: Dict[str, Float[Tensor, \"d_act\"]],\n",
        "):\n",
        "    \"\"\"edit layer output\"\"\"\n",
        "    ln = read2edit_layer_map[layer]\n",
        "    direction = directions[ln].to(output.device)\n",
        "    proj = (\n",
        "        einops.einsum(\n",
        "            output, direction.view(-1, 1), \"... d_act, d_act single -> ... single\"\n",
        "        )\n",
        "        * direction\n",
        "    )\n",
        "    return output - proj\n",
        "\n",
        "\n",
        "edit_output = functools.partial(direction_ablation_hook, directions=refusal_directions)"
      ]
    },
    {
      "cell_type": "code",
      "execution_count": null,
      "metadata": {
        "colab": {
          "base_uri": "https://localhost:8080/"
        },
        "id": "sR1G5bXoEDty",
        "outputId": "2e610278-3d4c-473e-850f-a9b28d0b13f9"
      },
      "outputs": [],
      "source": [
        "_, intervention_generations = get_generations(\n",
        "    instructions=harmful_inst_test[:N_INST_TRAIN],\n",
        "    model=model,\n",
        "    tokenizer=tokenizer,\n",
        "    layer_names=layers_to_edit,\n",
        "    tokenize_instructions_fn=tokenize_instructions_fn,\n",
        "    max_new_tokens=max_new_tokens,\n",
        "    batch_size=batch_size,\n",
        "    edit_output=edit_output,\n",
        ")\n",
        "clear_mem()\n",
        "_, baseline_generations = get_generations(\n",
        "    instructions=harmful_inst_test[:N_INST_TRAIN],\n",
        "    model=model,\n",
        "    tokenizer=tokenizer,\n",
        "    tokenize_instructions_fn=tokenize_instructions_fn,\n",
        "    max_new_tokens=max_new_tokens,\n",
        "    batch_size=batch_size,\n",
        ")"
      ]
    },
    {
      "cell_type": "code",
      "execution_count": null,
      "metadata": {},
      "outputs": [],
      "source": []
    },
    {
      "cell_type": "code",
      "execution_count": null,
      "metadata": {
        "colab": {
          "base_uri": "https://localhost:8080/"
        },
        "id": "pxbJr4vCFCOL",
        "outputId": "47810f58-813e-4014-fee8-cb1406e318c8"
      },
      "outputs": [],
      "source": [
        "for i in range(N_INST_TEST):\n",
        "    print(f\"INSTRUCTION {i}: {repr(harmful_inst_test[i])}\")\n",
        "    print(Fore.GREEN + f\"BASELINE COMPLETION:\")\n",
        "    print(\n",
        "        textwrap.fill(\n",
        "            repr(baseline_generations[i]),\n",
        "            width=100,\n",
        "            initial_indent=\"\\t\",\n",
        "            subsequent_indent=\"\\t\",\n",
        "        )\n",
        "    )\n",
        "    print(Fore.RED + f\"INTERVENTION COMPLETION:\")\n",
        "    print(\n",
        "        textwrap.fill(\n",
        "            repr(intervention_generations[i]),\n",
        "            width=100,\n",
        "            initial_indent=\"\\t\",\n",
        "            subsequent_indent=\"\\t\",\n",
        "        )\n",
        "    )\n",
        "    print(Fore.RESET)"
      ]
    },
    {
      "cell_type": "markdown",
      "metadata": {
        "id": "t9KooaWaCDc_"
      },
      "source": [
        "## Orthogonalize weights w.r.t. \"refusal direction\"\n",
        "\n",
        "We can implement the intervention equivalently by directly orthogonalizing the weight matrices that write to the residual stream with respect to the refusal direction $\\widehat{r}$:\n",
        "$$W_{\\text{out}}' \\leftarrow W_{\\text{out}} - \\widehat{r}\\widehat{r}^{\\mathsf{T}} W_{\\text{out}}$$\n",
        "\n",
        "By orthogonalizing these weight matrices, we enforce that the model is unable to write direction $r$ to the residual stream at all!"
      ]
    },
    {
      "cell_type": "code",
      "execution_count": null,
      "metadata": {
        "id": "8fhx0i9vCEou"
      },
      "outputs": [],
      "source": [
        "def get_orthogonalized_matrix(\n",
        "    matrix: Float[Tensor, \"... d_model\"], vec: Float[Tensor, \"d_model\"]\n",
        ") -> Float[Tensor, \"... d_model\"]:\n",
        "    proj = (\n",
        "        einops.einsum(\n",
        "            matrix, vec.view(-1, 1), \"... d_model, d_model single -> ... single\"\n",
        "        )\n",
        "        * vec\n",
        "    )\n",
        "    return matrix - proj"
      ]
    },
    {
      "cell_type": "code",
      "execution_count": null,
      "metadata": {},
      "outputs": [],
      "source": [
        "# get module from string...\n",
        "for key in layers_to_edit:\n",
        "    m = get_module(model, key)\n",
        "    ln = read2edit_layer_map[key]\n",
        "    refusal_dir = refusal_directions[ln].to(m.weight.device)\n",
        "    if \"mlp\" in key:\n",
        "        m.weight.data = get_orthogonalized_matrix(m.weight.T, refusal_dir).T\n",
        "    else:\n",
        "        m.weight.data = get_orthogonalized_matrix(m.weight, refusal_dir)"
      ]
    },
    {
      "cell_type": "code",
      "execution_count": null,
      "metadata": {
        "colab": {
          "base_uri": "https://localhost:8080/"
        },
        "id": "1Y-qtouNGf3t",
        "outputId": "5f946460-4ed4-4cf1-e53d-809ebb880f6e"
      },
      "outputs": [],
      "source": [
        "clear_mem()\n",
        "_, orthogonalized_generations = get_generations(\n",
        "    instructions=harmful_inst_test[:N_INST_TRAIN],\n",
        "    model=model,\n",
        "    tokenizer=tokenizer,\n",
        "    tokenize_instructions_fn=tokenize_instructions_fn,\n",
        "    max_new_tokens=max_new_tokens,\n",
        "    batch_size=batch_size,\n",
        ")"
      ]
    },
    {
      "cell_type": "code",
      "execution_count": null,
      "metadata": {
        "colab": {
          "base_uri": "https://localhost:8080/"
        },
        "id": "r68O4_4DG3P7",
        "outputId": "97eeb477-bfd1-4521-8c32-4657d99f3e0c"
      },
      "outputs": [],
      "source": [
        "for i in range(N_INST_TEST):\n",
        "    print(f\"INSTRUCTION {i}: {repr(harmful_inst_test[i])}\")\n",
        "    print(Fore.GREEN + f\"BASELINE COMPLETION:\")\n",
        "    print(\n",
        "        textwrap.fill(\n",
        "            repr(baseline_generations[i]),\n",
        "            width=100,\n",
        "            initial_indent=\"\\t\",\n",
        "            subsequent_indent=\"\\t\",\n",
        "        )\n",
        "    )\n",
        "    print(Fore.RED + f\"INTERVENTION COMPLETION:\")\n",
        "    print(\n",
        "        textwrap.fill(\n",
        "            repr(intervention_generations[i]),\n",
        "            width=100,\n",
        "            initial_indent=\"\\t\",\n",
        "            subsequent_indent=\"\\t\",\n",
        "        )\n",
        "    )\n",
        "    print(Fore.MAGENTA + f\"ORTHOGONALIZED COMPLETION:\")\n",
        "    print(\n",
        "        textwrap.fill(\n",
        "            repr(orthogonalized_generations[i]),\n",
        "            width=100,\n",
        "            initial_indent=\"\\t\",\n",
        "            subsequent_indent=\"\\t\",\n",
        "        )\n",
        "    )\n",
        "    print(Fore.RESET)"
      ]
    },
    {
      "cell_type": "code",
      "execution_count": null,
      "metadata": {},
      "outputs": [],
      "source": [
        "eval_pplx(model, tokenizer, model_name=\"orthogonalized\")"
      ]
    },
    {
      "cell_type": "code",
      "execution_count": null,
      "metadata": {},
      "outputs": [],
      "source": [
        "\n",
        "\n",
        "df_ppx = pd.DataFrame(perplexity_results.items(), columns=[\"model\", \"perplexity\"]).set_index(\"model\")\n",
        "# df_ppx.plot(kind=\"bar\")\n",
        "df_ppx.to_csv(\"../outputs/perplexity_results.csv\", index=False)\n",
        "display(df_ppx)"
      ]
    },
    {
      "cell_type": "code",
      "execution_count": null,
      "metadata": {},
      "outputs": [],
      "source": []
    },
    {
      "cell_type": "markdown",
      "metadata": {},
      "source": [
        "## Save\n",
        "\n",
        "The transformer lens library does not have a save feature :(, so as a hack we are going to load the transformer verison, and then apply the patch to it."
      ]
    },
    {
      "cell_type": "code",
      "execution_count": null,
      "metadata": {
        "id": "exUh3PEHRe9x"
      },
      "outputs": [],
      "source": [
        "# 1 / 0\n",
        "# save model\n",
        "model_name = Path(MODEL_PATH).stem.lower()\n",
        "f = f\"../outputs/{model_name}-extra_helpfull2\"\n",
        "print(f\"saving to {f}\")\n",
        "model.save_pretrained(f)\n",
        "tokenizer.save_pretrained(f)"
      ]
    },
    {
      "cell_type": "markdown",
      "metadata": {},
      "source": [
        "# TODO\n",
        "\n",
        "- [ ] measure perplexity and score before and after to see if it degrades"
      ]
    },
    {
      "cell_type": "code",
      "execution_count": null,
      "metadata": {},
      "outputs": [],
      "source": []
    }
  ],
  "metadata": {
    "accelerator": "GPU",
    "colab": {
      "gpuType": "T4",
      "provenance": [],
      "toc_visible": true
    },
    "kernelspec": {
      "display_name": ".venv",
      "language": "python",
      "name": "python3"
    },
    "language_info": {
      "codemirror_mode": {
        "name": "ipython",
        "version": 3
      },
      "file_extension": ".py",
      "mimetype": "text/x-python",
      "name": "python",
      "nbconvert_exporter": "python",
      "pygments_lexer": "ipython3",
      "version": "3.10.16"
    },
    "widgets": {
      "application/vnd.jupyter.widget-state+json": {
        "3877270cf4bc42a9b6142cce7a5d8c54": {
          "model_module": "@jupyter-widgets/controls",
          "model_module_version": "1.5.0",
          "model_name": "FloatProgressModel",
          "state": {
            "_dom_classes": [],
            "_model_module": "@jupyter-widgets/controls",
            "_model_module_version": "1.5.0",
            "_model_name": "FloatProgressModel",
            "_view_count": null,
            "_view_module": "@jupyter-widgets/controls",
            "_view_module_version": "1.5.0",
            "_view_name": "ProgressView",
            "bar_style": "success",
            "description": "",
            "description_tooltip": null,
            "layout": "IPY_MODEL_ec8f6f360a2243b0ac98d34e825ba378",
            "max": 2,
            "min": 0,
            "orientation": "horizontal",
            "style": "IPY_MODEL_f2ee188bfaa84e9680dbc296b1adbef6",
            "value": 2
          }
        },
        "89797f6e82104058af92e3ceb094af66": {
          "model_module": "@jupyter-widgets/controls",
          "model_module_version": "1.5.0",
          "model_name": "DescriptionStyleModel",
          "state": {
            "_model_module": "@jupyter-widgets/controls",
            "_model_module_version": "1.5.0",
            "_model_name": "DescriptionStyleModel",
            "_view_count": null,
            "_view_module": "@jupyter-widgets/base",
            "_view_module_version": "1.2.0",
            "_view_name": "StyleView",
            "description_width": ""
          }
        },
        "89ee88168c474e9fbcf4a17f1483eff4": {
          "model_module": "@jupyter-widgets/controls",
          "model_module_version": "1.5.0",
          "model_name": "HTMLModel",
          "state": {
            "_dom_classes": [],
            "_model_module": "@jupyter-widgets/controls",
            "_model_module_version": "1.5.0",
            "_model_name": "HTMLModel",
            "_view_count": null,
            "_view_module": "@jupyter-widgets/controls",
            "_view_module_version": "1.5.0",
            "_view_name": "HTMLView",
            "description": "",
            "description_tooltip": null,
            "layout": "IPY_MODEL_c362d50107dd4a2db0d1a79da2af8d57",
            "placeholder": "​",
            "style": "IPY_MODEL_ffa85c694b694425999187b346c7ecfe",
            "value": "Loading checkpoint shards: 100%"
          }
        },
        "9a5611a341ed4673aaaf2f463f685d7c": {
          "model_module": "@jupyter-widgets/controls",
          "model_module_version": "1.5.0",
          "model_name": "HTMLModel",
          "state": {
            "_dom_classes": [],
            "_model_module": "@jupyter-widgets/controls",
            "_model_module_version": "1.5.0",
            "_model_name": "HTMLModel",
            "_view_count": null,
            "_view_module": "@jupyter-widgets/controls",
            "_view_module_version": "1.5.0",
            "_view_name": "HTMLView",
            "description": "",
            "description_tooltip": null,
            "layout": "IPY_MODEL_e973493cd6d14381bb4ad2f82417e8a9",
            "placeholder": "​",
            "style": "IPY_MODEL_89797f6e82104058af92e3ceb094af66",
            "value": " 2/2 [00:18&lt;00:00,  8.85s/it]"
          }
        },
        "a2de63dfbd6c485e841c6fcd1fefe451": {
          "model_module": "@jupyter-widgets/base",
          "model_module_version": "1.2.0",
          "model_name": "LayoutModel",
          "state": {
            "_model_module": "@jupyter-widgets/base",
            "_model_module_version": "1.2.0",
            "_model_name": "LayoutModel",
            "_view_count": null,
            "_view_module": "@jupyter-widgets/base",
            "_view_module_version": "1.2.0",
            "_view_name": "LayoutView",
            "align_content": null,
            "align_items": null,
            "align_self": null,
            "border": null,
            "bottom": null,
            "display": null,
            "flex": null,
            "flex_flow": null,
            "grid_area": null,
            "grid_auto_columns": null,
            "grid_auto_flow": null,
            "grid_auto_rows": null,
            "grid_column": null,
            "grid_gap": null,
            "grid_row": null,
            "grid_template_areas": null,
            "grid_template_columns": null,
            "grid_template_rows": null,
            "height": null,
            "justify_content": null,
            "justify_items": null,
            "left": null,
            "margin": null,
            "max_height": null,
            "max_width": null,
            "min_height": null,
            "min_width": null,
            "object_fit": null,
            "object_position": null,
            "order": null,
            "overflow": null,
            "overflow_x": null,
            "overflow_y": null,
            "padding": null,
            "right": null,
            "top": null,
            "visibility": null,
            "width": null
          }
        },
        "ad063e2c68a44f009bfab68c141c09be": {
          "model_module": "@jupyter-widgets/controls",
          "model_module_version": "1.5.0",
          "model_name": "HBoxModel",
          "state": {
            "_dom_classes": [],
            "_model_module": "@jupyter-widgets/controls",
            "_model_module_version": "1.5.0",
            "_model_name": "HBoxModel",
            "_view_count": null,
            "_view_module": "@jupyter-widgets/controls",
            "_view_module_version": "1.5.0",
            "_view_name": "HBoxView",
            "box_style": "",
            "children": [
              "IPY_MODEL_89ee88168c474e9fbcf4a17f1483eff4",
              "IPY_MODEL_3877270cf4bc42a9b6142cce7a5d8c54",
              "IPY_MODEL_9a5611a341ed4673aaaf2f463f685d7c"
            ],
            "layout": "IPY_MODEL_a2de63dfbd6c485e841c6fcd1fefe451"
          }
        },
        "c362d50107dd4a2db0d1a79da2af8d57": {
          "model_module": "@jupyter-widgets/base",
          "model_module_version": "1.2.0",
          "model_name": "LayoutModel",
          "state": {
            "_model_module": "@jupyter-widgets/base",
            "_model_module_version": "1.2.0",
            "_model_name": "LayoutModel",
            "_view_count": null,
            "_view_module": "@jupyter-widgets/base",
            "_view_module_version": "1.2.0",
            "_view_name": "LayoutView",
            "align_content": null,
            "align_items": null,
            "align_self": null,
            "border": null,
            "bottom": null,
            "display": null,
            "flex": null,
            "flex_flow": null,
            "grid_area": null,
            "grid_auto_columns": null,
            "grid_auto_flow": null,
            "grid_auto_rows": null,
            "grid_column": null,
            "grid_gap": null,
            "grid_row": null,
            "grid_template_areas": null,
            "grid_template_columns": null,
            "grid_template_rows": null,
            "height": null,
            "justify_content": null,
            "justify_items": null,
            "left": null,
            "margin": null,
            "max_height": null,
            "max_width": null,
            "min_height": null,
            "min_width": null,
            "object_fit": null,
            "object_position": null,
            "order": null,
            "overflow": null,
            "overflow_x": null,
            "overflow_y": null,
            "padding": null,
            "right": null,
            "top": null,
            "visibility": null,
            "width": null
          }
        },
        "e973493cd6d14381bb4ad2f82417e8a9": {
          "model_module": "@jupyter-widgets/base",
          "model_module_version": "1.2.0",
          "model_name": "LayoutModel",
          "state": {
            "_model_module": "@jupyter-widgets/base",
            "_model_module_version": "1.2.0",
            "_model_name": "LayoutModel",
            "_view_count": null,
            "_view_module": "@jupyter-widgets/base",
            "_view_module_version": "1.2.0",
            "_view_name": "LayoutView",
            "align_content": null,
            "align_items": null,
            "align_self": null,
            "border": null,
            "bottom": null,
            "display": null,
            "flex": null,
            "flex_flow": null,
            "grid_area": null,
            "grid_auto_columns": null,
            "grid_auto_flow": null,
            "grid_auto_rows": null,
            "grid_column": null,
            "grid_gap": null,
            "grid_row": null,
            "grid_template_areas": null,
            "grid_template_columns": null,
            "grid_template_rows": null,
            "height": null,
            "justify_content": null,
            "justify_items": null,
            "left": null,
            "margin": null,
            "max_height": null,
            "max_width": null,
            "min_height": null,
            "min_width": null,
            "object_fit": null,
            "object_position": null,
            "order": null,
            "overflow": null,
            "overflow_x": null,
            "overflow_y": null,
            "padding": null,
            "right": null,
            "top": null,
            "visibility": null,
            "width": null
          }
        },
        "ec8f6f360a2243b0ac98d34e825ba378": {
          "model_module": "@jupyter-widgets/base",
          "model_module_version": "1.2.0",
          "model_name": "LayoutModel",
          "state": {
            "_model_module": "@jupyter-widgets/base",
            "_model_module_version": "1.2.0",
            "_model_name": "LayoutModel",
            "_view_count": null,
            "_view_module": "@jupyter-widgets/base",
            "_view_module_version": "1.2.0",
            "_view_name": "LayoutView",
            "align_content": null,
            "align_items": null,
            "align_self": null,
            "border": null,
            "bottom": null,
            "display": null,
            "flex": null,
            "flex_flow": null,
            "grid_area": null,
            "grid_auto_columns": null,
            "grid_auto_flow": null,
            "grid_auto_rows": null,
            "grid_column": null,
            "grid_gap": null,
            "grid_row": null,
            "grid_template_areas": null,
            "grid_template_columns": null,
            "grid_template_rows": null,
            "height": null,
            "justify_content": null,
            "justify_items": null,
            "left": null,
            "margin": null,
            "max_height": null,
            "max_width": null,
            "min_height": null,
            "min_width": null,
            "object_fit": null,
            "object_position": null,
            "order": null,
            "overflow": null,
            "overflow_x": null,
            "overflow_y": null,
            "padding": null,
            "right": null,
            "top": null,
            "visibility": null,
            "width": null
          }
        },
        "f2ee188bfaa84e9680dbc296b1adbef6": {
          "model_module": "@jupyter-widgets/controls",
          "model_module_version": "1.5.0",
          "model_name": "ProgressStyleModel",
          "state": {
            "_model_module": "@jupyter-widgets/controls",
            "_model_module_version": "1.5.0",
            "_model_name": "ProgressStyleModel",
            "_view_count": null,
            "_view_module": "@jupyter-widgets/base",
            "_view_module_version": "1.2.0",
            "_view_name": "StyleView",
            "bar_color": null,
            "description_width": ""
          }
        },
        "ffa85c694b694425999187b346c7ecfe": {
          "model_module": "@jupyter-widgets/controls",
          "model_module_version": "1.5.0",
          "model_name": "DescriptionStyleModel",
          "state": {
            "_model_module": "@jupyter-widgets/controls",
            "_model_module_version": "1.5.0",
            "_model_name": "DescriptionStyleModel",
            "_view_count": null,
            "_view_module": "@jupyter-widgets/base",
            "_view_module_version": "1.2.0",
            "_view_name": "StyleView",
            "description_width": ""
          }
        }
      }
    }
  },
  "nbformat": 4,
  "nbformat_minor": 0
}
